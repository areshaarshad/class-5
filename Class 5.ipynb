{
 "cells": [
  {
   "cell_type": "markdown",
   "metadata": {},
   "source": [
    "# Dictionary"
   ]
  },
  {
   "cell_type": "markdown",
   "metadata": {},
   "source": [
    "# List"
   ]
  },
  {
   "cell_type": "code",
   "execution_count": 1,
   "metadata": {},
   "outputs": [
    {
     "data": {
      "text/plain": [
       "[1234, 'Aresha', 'AI']"
      ]
     },
     "execution_count": 1,
     "metadata": {},
     "output_type": "execute_result"
    }
   ],
   "source": [
    "# list[element1, element2, element3]\n",
    "#     0       1       2\n",
    "l1=[1234, \"Aresha\", \"AI\"]\n",
    "#     -3      -2      -1\n",
    "#list[index]\n",
    "l1"
   ]
  },
  {
   "cell_type": "code",
   "execution_count": 2,
   "metadata": {},
   "outputs": [
    {
     "data": {
      "text/plain": [
       "{'id': 2,\n",
       " 'name': 'Aresha',\n",
       " 'course': 'AI',\n",
       " 'admission date': '15-12-2019',\n",
       " 'DoB': '17-10-2000'}"
      ]
     },
     "execution_count": 2,
     "metadata": {},
     "output_type": "execute_result"
    }
   ],
   "source": [
    "# dict[item1, item2, item3]\n",
    "# item = key:value\n",
    "\n",
    "d1 = {'id':2,\n",
    "     'name':\"Aresha\",\n",
    "     'course':\"AI\",\n",
    "     'admission date':'15-12-2019',\n",
    "     'DoB': '17-10-2000'}\n",
    "d1"
   ]
  },
  {
   "cell_type": "code",
   "execution_count": 3,
   "metadata": {},
   "outputs": [
    {
     "data": {
      "text/plain": [
       "'17-10-2000'"
      ]
     },
     "execution_count": 3,
     "metadata": {},
     "output_type": "execute_result"
    }
   ],
   "source": [
    "#dict[key]\n",
    "d1 = {'id':2,\n",
    "     'name':\"Aresha\",\n",
    "     'course':\"AI\",\n",
    "     'admission date':'15-12-2019',\n",
    "     'DoB': '17-10-2000'}\n",
    "d1\n",
    "d1['DoB']"
   ]
  },
  {
   "cell_type": "code",
   "execution_count": 4,
   "metadata": {},
   "outputs": [
    {
     "data": {
      "text/plain": [
       "{'id': 1, 'name': 'Aresha', 'course': 'AI'}"
      ]
     },
     "execution_count": 4,
     "metadata": {},
     "output_type": "execute_result"
    }
   ],
   "source": [
    "d1 = {}\n",
    "d1['id']=1\n",
    "d1['name']=\"Aresha\"\n",
    "d1['course']=\"AI\"\n",
    "\n",
    "d1"
   ]
  },
  {
   "cell_type": "code",
   "execution_count": 5,
   "metadata": {},
   "outputs": [
    {
     "name": "stdout",
     "output_type": "stream",
     "text": [
      "Enter your ID: 1234\n",
      "Enter your Name: are\n",
      "Enter your skills with',' operated values: c, c==\n"
     ]
    },
    {
     "data": {
      "text/plain": [
       "{'id': '1234', 'name': 'are', 'skills': ['Python', 'c,', 'c==']}"
      ]
     },
     "execution_count": 5,
     "metadata": {},
     "output_type": "execute_result"
    }
   ],
   "source": [
    "d1 = {} # empty dictionary\n",
    "user_id = input(\"Enter your ID: \")\n",
    "d1 ['id'] = user_id\n",
    "name = input(\"Enter your Name: \")\n",
    "d1['name'] = name\n",
    "d1['skills']=[\"Python\"]\n",
    "skills = input(\"Enter your skills with',' operated values: \")\n",
    "d1['skills']=d1['skills']+skills.split()\n",
    "d1"
   ]
  },
  {
   "cell_type": "code",
   "execution_count": 8,
   "metadata": {},
   "outputs": [
    {
     "data": {
      "text/plain": [
       "{}"
      ]
     },
     "execution_count": 8,
     "metadata": {},
     "output_type": "execute_result"
    }
   ],
   "source": [
    "# dict[item1, item2, item3]\n",
    "# item = key:value\n",
    "\n",
    "d1 = {'id':2,\n",
    "     'name':\"Aresha\",\n",
    "     'course':\"AI\",\n",
    "     'admission date':'15-12-2019',\n",
    "     'DoB': '17-10-2000'}\n",
    "d1.clear()\n",
    "d1"
   ]
  },
  {
   "cell_type": "code",
   "execution_count": 7,
   "metadata": {},
   "outputs": [
    {
     "name": "stdout",
     "output_type": "stream",
     "text": [
      "{'id': 2, 'name': 'Aresha', 'course': 'AI', 'admission date': '15-12-2019', 'DoB': '17-10-2000'}\n"
     ]
    },
    {
     "ename": "NameError",
     "evalue": "name 'd1' is not defined",
     "output_type": "error",
     "traceback": [
      "\u001b[1;31m---------------------------------------------------------------------------\u001b[0m",
      "\u001b[1;31mNameError\u001b[0m                                 Traceback (most recent call last)",
      "\u001b[1;32m<ipython-input-7-f42ec03154bb>\u001b[0m in \u001b[0;36m<module>\u001b[1;34m\u001b[0m\n\u001b[0;32m      9\u001b[0m \u001b[0mprint\u001b[0m\u001b[1;33m(\u001b[0m\u001b[0md1\u001b[0m\u001b[1;33m)\u001b[0m\u001b[1;33m\u001b[0m\u001b[1;33m\u001b[0m\u001b[0m\n\u001b[0;32m     10\u001b[0m \u001b[1;32mdel\u001b[0m \u001b[0md1\u001b[0m\u001b[1;33m\u001b[0m\u001b[1;33m\u001b[0m\u001b[0m\n\u001b[1;32m---> 11\u001b[1;33m \u001b[0mprint\u001b[0m\u001b[1;33m(\u001b[0m\u001b[0md1\u001b[0m\u001b[1;33m)\u001b[0m\u001b[1;33m\u001b[0m\u001b[1;33m\u001b[0m\u001b[0m\n\u001b[0m",
      "\u001b[1;31mNameError\u001b[0m: name 'd1' is not defined"
     ]
    }
   ],
   "source": [
    "# dict[item1, item2, item3]\n",
    "# item = key:value\n",
    "\n",
    "d1 = {'id':2,\n",
    "     'name':\"Aresha\",\n",
    "     'course':\"AI\",\n",
    "     'admission date':'15-12-2019',\n",
    "     'DoB': '17-10-2000'}\n",
    "print(d1)\n",
    "del d1\n",
    "print(d1)"
   ]
  },
  {
   "cell_type": "code",
   "execution_count": 9,
   "metadata": {},
   "outputs": [
    {
     "name": "stdout",
     "output_type": "stream",
     "text": [
      "{'id': 2, 'name': 'Aresha', 'course': 'AI', 'admission date': '15-12-2019', 'DoB': '17-10-2000'}\n"
     ]
    },
    {
     "data": {
      "text/plain": [
       "{'id': 2,\n",
       " 'name': 'Aresha',\n",
       " 'course': 'AI',\n",
       " 'admission date': '15-12-2019',\n",
       " 'DoB': '17-10-2000'}"
      ]
     },
     "execution_count": 9,
     "metadata": {},
     "output_type": "execute_result"
    }
   ],
   "source": [
    "# dict[item1, item2, item3]\n",
    "# item = key:value\n",
    "\n",
    "d1 = {'id':2,\n",
    "     'name':\"Aresha\",\n",
    "     'course':\"AI\",\n",
    "     'admission date':'15-12-2019',\n",
    "     'DoB': '17-10-2000'}\n",
    "print(d1)\n",
    "d2=d1.copy()\n",
    "d2"
   ]
  },
  {
   "cell_type": "code",
   "execution_count": 10,
   "metadata": {},
   "outputs": [
    {
     "name": "stdout",
     "output_type": "stream",
     "text": [
      "{'id': 2, 'name': 'Aresha', 'course': 'AI', 'admission date': '15-12-2019', 'DoB': '17-10-2000'}\n",
      "{'id': 10, 'name': 'Aresha', 'course': 'AI', 'admission date': '15-12-2019', 'DoB': '17-10-2000'}\n"
     ]
    }
   ],
   "source": [
    "d2=d1.copy()\n",
    "d2[\"id\"]=10\n",
    "print(d1)\n",
    "print(d2)"
   ]
  },
  {
   "cell_type": "code",
   "execution_count": 11,
   "metadata": {},
   "outputs": [
    {
     "data": {
      "text/plain": [
       "<function dict.items>"
      ]
     },
     "execution_count": 11,
     "metadata": {},
     "output_type": "execute_result"
    }
   ],
   "source": [
    "# dict[item1, item2, item3]\n",
    "# item = key:value\n",
    "\n",
    "d1 = {'id':2,\n",
    "     'name':\"Aresha\",\n",
    "     'course':\"AI\",\n",
    "     'admission date':'15-12-2019',\n",
    "     'DoB': '17-10-2000'}\n",
    "d1\n",
    "d1.items"
   ]
  },
  {
   "cell_type": "code",
   "execution_count": 12,
   "metadata": {},
   "outputs": [
    {
     "name": "stdout",
     "output_type": "stream",
     "text": [
      "{'id': None, 'name': None, 'course': None, 'timing': None, 'address': None, 'DoB': None}\n"
     ]
    }
   ],
   "source": [
    "l1 = ['id', 'name', 'course', 'timing', 'address', 'DoB']\n",
    "l1\n",
    "d1=dict.fromkeys(l1)\n",
    "print(d1)"
   ]
  },
  {
   "cell_type": "code",
   "execution_count": 14,
   "metadata": {},
   "outputs": [
    {
     "name": "stdout",
     "output_type": "stream",
     "text": [
      "Enter comma separated values:a, b, c\n",
      "['a', ' b', ' c']\n",
      "Enter your keys:b, d, e\n",
      "['b', ' d', ' e']\n",
      "{'a': 'NA', ' b': 'NA', ' c': 'NA'}\n",
      "{'b': 'NA', ' d': 'NA', ' e': 'NA'}\n"
     ]
    }
   ],
   "source": [
    "l1 = input(\"Enter comma separated values:\")\n",
    "l1= l1.split(\",\")\n",
    "print(l1)\n",
    "l2 = input (\"Enter your keys:\")\n",
    "l2=l2.split(\",\")\n",
    "print(l2)\n",
    "d1= dict.fromkeys(l1, \"NA\")\n",
    "d2= dict.fromkeys(l2, \"NA\")\n",
    "print(d1)\n",
    "print(d2)"
   ]
  },
  {
   "cell_type": "code",
   "execution_count": 15,
   "metadata": {},
   "outputs": [
    {
     "name": "stdout",
     "output_type": "stream",
     "text": [
      "Enter comma separated values:a, c\n",
      "['a', ' c']\n",
      "{'a': 'NA', ' c': 'NA'}\n"
     ]
    }
   ],
   "source": [
    "l1 = input(\"Enter comma separated values:\")\n",
    "l1= l1.split(\",\")\n",
    "print(l1)\n",
    "d1= dict.fromkeys(l1, \"NA\")\n",
    "print(d1)"
   ]
  },
  {
   "cell_type": "code",
   "execution_count": 17,
   "metadata": {},
   "outputs": [
    {
     "name": "stdout",
     "output_type": "stream",
     "text": [
      "[('a', 'x'), ('b', 'y'), ('c', 'z')]\n",
      "{'a': 'x', 'b': 'y', 'c': 'z'}\n"
     ]
    }
   ],
   "source": [
    "l1 = ['a', 'b', 'c']\n",
    "l2 = ['x', 'y', 'z']\n",
    "l3 = list(zip(l1,l2))\n",
    "print(l3)\n",
    "d1 = dict(l3)\n",
    "print(d1)"
   ]
  },
  {
   "cell_type": "code",
   "execution_count": 21,
   "metadata": {},
   "outputs": [
    {
     "name": "stdout",
     "output_type": "stream",
     "text": [
      "keysa, d, g\n",
      "valuess, f\n",
      "[('a', 's'), (' d', ' f')]\n",
      "{'a': 's', ' d': ' f'}\n"
     ]
    }
   ],
   "source": [
    "l1 = input(\"keys\").split(\",\")\n",
    "l2 = input(\"values\").split(\",\")\n",
    "l3 = list(zip(l1,l2))\n",
    "print(l3)\n",
    "d1 = dict(l3)\n",
    "print(d1)"
   ]
  },
  {
   "cell_type": "code",
   "execution_count": 24,
   "metadata": {},
   "outputs": [
    {
     "name": "stdout",
     "output_type": "stream",
     "text": [
      "{'a': 's', ' d': ' f'}\n",
      "None\n",
      "Vlue does not Exist.:(\n"
     ]
    }
   ],
   "source": [
    "print(d1)\n",
    "print(d1.get('f'))\n",
    "# if key is available then extract it, error will not generate\n",
    "print(d1.get('f', \"Vlue does not Exist.:(\"))\n"
   ]
  },
  {
   "cell_type": "code",
   "execution_count": 25,
   "metadata": {},
   "outputs": [
    {
     "name": "stdout",
     "output_type": "stream",
     "text": [
      "{'a': 's', ' d': ' f'}\n"
     ]
    },
    {
     "data": {
      "text/plain": [
       "dict_items([('a', 's'), (' d', ' f')])"
      ]
     },
     "execution_count": 25,
     "metadata": {},
     "output_type": "execute_result"
    }
   ],
   "source": [
    "print(d1)\n",
    "d1.items()"
   ]
  },
  {
   "cell_type": "code",
   "execution_count": 26,
   "metadata": {},
   "outputs": [
    {
     "name": "stdout",
     "output_type": "stream",
     "text": [
      "{'a': 's', ' d': ' f'}\n"
     ]
    },
    {
     "data": {
      "text/plain": [
       "dict_keys(['a', ' d'])"
      ]
     },
     "execution_count": 26,
     "metadata": {},
     "output_type": "execute_result"
    }
   ],
   "source": [
    "print(d1)\n",
    "d1.keys()"
   ]
  },
  {
   "cell_type": "code",
   "execution_count": 27,
   "metadata": {},
   "outputs": [
    {
     "name": "stdout",
     "output_type": "stream",
     "text": [
      "{'a': 's', ' d': ' f'}\n"
     ]
    },
    {
     "data": {
      "text/plain": [
       "'s'"
      ]
     },
     "execution_count": 27,
     "metadata": {},
     "output_type": "execute_result"
    }
   ],
   "source": [
    "print(d1)\n",
    "d1.pop('a')#it removes, will return value"
   ]
  },
  {
   "cell_type": "code",
   "execution_count": 35,
   "metadata": {},
   "outputs": [
    {
     "data": {
      "text/plain": [
       "(' d', ' f')"
      ]
     },
     "execution_count": 35,
     "metadata": {},
     "output_type": "execute_result"
    }
   ],
   "source": [
    "d1 = {'a': 's', ' d': ' f'}\n",
    "d1\n",
    "d1.popitem()"
   ]
  },
  {
   "cell_type": "code",
   "execution_count": 36,
   "metadata": {},
   "outputs": [
    {
     "data": {
      "text/plain": [
       "{'a': 's', ' d': ' f', 'abc': 'ser'}"
      ]
     },
     "execution_count": 36,
     "metadata": {},
     "output_type": "execute_result"
    }
   ],
   "source": [
    "d1 = {'a': 's', ' d': ' f'}\n",
    "d1\n",
    "d1.setdefault('abc','ser')\n",
    "d1"
   ]
  },
  {
   "cell_type": "code",
   "execution_count": 38,
   "metadata": {},
   "outputs": [
    {
     "data": {
      "text/plain": [
       "{'a': 'ss', ' d': ' f', 'e': 'ff'}"
      ]
     },
     "execution_count": 38,
     "metadata": {},
     "output_type": "execute_result"
    }
   ],
   "source": [
    "d1 = {'a': 's', ' d': ' f'}\n",
    "d2 = {'a': 'ss', 'e': 'ff'}\n",
    "d1.update(d2)\n",
    "d1"
   ]
  },
  {
   "cell_type": "code",
   "execution_count": 42,
   "metadata": {},
   "outputs": [
    {
     "name": "stdout",
     "output_type": "stream",
     "text": [
      "f 6\n",
      "e 5\n",
      "d 4\n",
      "c 3\n",
      "b 2\n",
      "a 1\n"
     ]
    }
   ],
   "source": [
    "d1 = {'a': 1, 'b': 2, 'c': 3, 'd': 4, 'e': 5, 'f': 6}\n",
    "for i,j in sorted (d1.items(), reverse=True):\n",
    "    print(i,j)\n"
   ]
  },
  {
   "cell_type": "code",
   "execution_count": 44,
   "metadata": {},
   "outputs": [
    {
     "name": "stdout",
     "output_type": "stream",
     "text": [
      "{'a': 1, 'b': 2, 'c': 3, 'd': 4, 'e': 5, 'f': 6}\n"
     ]
    },
    {
     "data": {
      "text/plain": [
       "{'a': 1, 'b': 2, 'c': 3, 'd': 4, 'e': 5, 'f': 6}"
      ]
     },
     "execution_count": 44,
     "metadata": {},
     "output_type": "execute_result"
    }
   ],
   "source": [
    "d1 = {'a': 1, 'b': 2, 'c': 3, 'd': 4, 'e': 5, 'f': 6}\n",
    "print(d1)\n",
    "{k:v for k,v in sorted(d1.items(), key = lambda item: item[1])}\n"
   ]
  },
  {
   "cell_type": "code",
   "execution_count": 45,
   "metadata": {},
   "outputs": [
    {
     "name": "stdout",
     "output_type": "stream",
     "text": [
      "{'a': 1, 'b': 2, 'c': 3, 'd': 4, 'e': 5, 'f': 6}\n"
     ]
    }
   ],
   "source": [
    "d1 = {'a': 1, 'b': 2, 'c': 3, 'd': 4, 'e': 5, 'f': 6}\n",
    "print(d1)\n"
   ]
  },
  {
   "cell_type": "code",
   "execution_count": 46,
   "metadata": {},
   "outputs": [
    {
     "data": {
      "text/plain": [
       "[('a', 1), ('b', 2), ('c', 3), ('d', 4), ('e', 5), ('f', 6)]"
      ]
     },
     "execution_count": 46,
     "metadata": {},
     "output_type": "execute_result"
    }
   ],
   "source": [
    "list(d1.items())"
   ]
  },
  {
   "cell_type": "code",
   "execution_count": null,
   "metadata": {},
   "outputs": [],
   "source": [
    "l1 = [('A',2,'c'),\n",
    "('B',3,'d'),\n",
    "('C',4,'e')]"
   ]
  },
  {
   "cell_type": "code",
   "execution_count": 49,
   "metadata": {},
   "outputs": [
    {
     "data": {
      "text/plain": [
       "[('A', 2, 'c'), ('B', 3, 'd'), ('C', 4, 'e')]"
      ]
     },
     "execution_count": 49,
     "metadata": {},
     "output_type": "execute_result"
    }
   ],
   "source": [
    "l1 = [('A',2,'c'),\n",
    "('B',3,'d'),\n",
    "('C',4,'e')]\n",
    "def abc(x):\n",
    "    return x[0]\n",
    "    \n",
    "sorted(l1, key = abc)"
   ]
  },
  {
   "cell_type": "code",
   "execution_count": null,
   "metadata": {},
   "outputs": [],
   "source": [
    "list = []# simple list to store all student data\n",
    "x = ''"
   ]
  }
 ],
 "metadata": {
  "kernelspec": {
   "display_name": "Python 3",
   "language": "python",
   "name": "python3"
  },
  "language_info": {
   "codemirror_mode": {
    "name": "ipython",
    "version": 3
   },
   "file_extension": ".py",
   "mimetype": "text/x-python",
   "name": "python",
   "nbconvert_exporter": "python",
   "pygments_lexer": "ipython3",
   "version": "3.7.3"
  }
 },
 "nbformat": 4,
 "nbformat_minor": 2
}
